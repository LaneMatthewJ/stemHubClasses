{
  "nbformat": 4,
  "nbformat_minor": 0,
  "metadata": {
    "colab": {
      "name": "ColabCodingFromScratch.ipynb",
      "provenance": [],
      "collapsed_sections": [],
      "authorship_tag": "ABX9TyNgwTkloBqpgNuCbYz1rEsn",
      "include_colab_link": true
    },
    "kernelspec": {
      "name": "python3",
      "display_name": "Python 3"
    },
    "language_info": {
      "name": "python"
    }
  },
  "cells": [
    {
      "cell_type": "markdown",
      "metadata": {
        "id": "view-in-github",
        "colab_type": "text"
      },
      "source": [
        "<a href=\"https://colab.research.google.com/github/LaneMatthewJ/stemHubClasses/blob/main/codingForEveryone/ColabCodingFromScratch.ipynb\" target=\"_parent\"><img src=\"https://colab.research.google.com/assets/colab-badge.svg\" alt=\"Open In Colab\"/></a>"
      ]
    },
    {
      "cell_type": "markdown",
      "metadata": {
        "id": "N9W6UoQH3xqw"
      },
      "source": [
        "# Introduction to Coding For Everyone!  \n",
        "## What is Code, and Why Do We Care!?\n",
        "\n",
        "When you think about \"code\", you probably think of a wall of text that somehow makes a program work. \n",
        "\n",
        "And you're not wrong! But \"code\" can be so much more than just \"the words that make a program work\". \n",
        "\n",
        "Ultimately speaking, \"code\" is just a series of steps in \"program\"\n",
        "\n",
        "1.   Do something! \n",
        "2.   Do another thing after having done step 1. \n",
        "3.   ??? \n",
        "4.   Profit\n",
        "\n",
        "\n",
        "## Code is Just a Recipe\n",
        "Have you ever written a recipe?\n",
        " \n",
        "![](https://github.com/LaneMatthewJ/stemHubClasses/blob/main/codingForEveryone/images/recipe.jpg?raw=true)\n",
        "\n",
        "You’ve written code. \n",
        "\n",
        "When a “computer” reads “code”, it executes those instructions to the best of its ability. \n",
        "\n",
        "But… if a recipe is code for cooked food, what is the computer?\n",
        "\n",
        "## But then... What is a Computer?\n",
        "\n",
        "\n",
        "![](https://github.com/LaneMatthewJ/stemHubClasses/blob/main/codingForEveryone/images/computer.jpg?raw=true)\n",
        "\n",
        "A computer is a machine that can be “programmed” to carry out a set of instructions.\n",
        "\n",
        "Isn’t that a bit… vague? \n",
        "\n",
        "### The World’s Oldest Known Computer: \n",
        "- Antikythera Mechanism: \n",
        "![](https://upload.wikimedia.org/wikipedia/commons/thumb/6/66/NAMA_Machine_d%27Anticyth%C3%A8re_1.jpg/1024px-NAMA_Machine_d%27Anticyth%C3%A8re_1.jpg)\n",
        "- Dated to 1st-3rd Century BCE\n",
        "- An “analog” computer \n",
        "- Astronomical calculator\n",
        "\n",
        "### More Relatable Analog Computers: \n",
        "The Difference and Analytical Engines: \n",
        "<INSERT ANALYTIC ENGINE FPHOTO HERE>\n",
        "- Designed by Charles Babbage\n",
        "- Steam Powered Analog Computers\n",
        "- Difference Engine: 1820s\n",
        "  - Essentially a mechanical computer\n",
        "  - It was a fancy steam powered calculator\n",
        "- Analytical Engine: 1837\n",
        "  - Proposed, never finished\n",
        "  - Could actually be programmed \n",
        "  - Programmed by Ada Lovelace (described as the first “computer programmer”)\n",
        "\n",
        "### 20th Century Computers: \n",
        "\n",
        "![](https://github.com/LaneMatthewJ/stemHubClasses/blob/main/codingForEveryone/images/computer.jpg?raw=true)\n",
        "\n",
        "Based off of the integrated circuit.\n",
        "- Originally coded in binary: [0, 1]\n",
        "- As circuits and computer architecture got more complex, so did computers, so did languages\n",
        "![](https://upload.wikimedia.org/wikipedia/commons/thumb/6/67/History_of_object-oriented_programming_languages.svg/800px-History_of_object-oriented_programming_languages.svg.png)\n",
        "> If I have seen further it is by standing on the shoulders of Giants.\n",
        "\n",
        "\\- Sir Isaac Netwon\n",
        "\n",
        "\n",
        "## Standing on the Shoulders of Giants\n",
        "We will be using Python and Google Colaboratory pages to learn to code! \n",
        "- Why Python? \n",
        "  - Well maintained\n",
        "  - Simple syntax\n",
        "  - SO MANY RESOURCES\n",
        "- Why Colaboratories? \n",
        "  - Colab notebooks offer easy setup (no downloading anything)\n",
        "  - Can quickly see errors!\n",
        "\n"
      ]
    },
    {
      "cell_type": "markdown",
      "metadata": {
        "id": "zwVUaX8jgRxa"
      },
      "source": [
        "## Variables: \n",
        "A variable is just a term for something that stores a value. Think of it as a bucket that you fill with some data!\n",
        "\n",
        "![](https://github.com/LaneMatthewJ/stemHubClasses/blob/main/codingForEveryone/images/variable.jpg?raw=true)\n",
        "\n",
        "To assign a value to a variable in python, it is as simple as declaring a variable by just naming it:"
      ]
    },
    {
      "cell_type": "code",
      "metadata": {
        "id": "TiMJdu184bl1"
      },
      "source": [
        "myVariable = 2"
      ],
      "execution_count": null,
      "outputs": []
    },
    {
      "cell_type": "markdown",
      "metadata": {
        "id": "AkCEM4Mcghd1"
      },
      "source": [
        "To see what is inside of a variable, you can print the values! Think of it like peaking inside of your bucket! \n",
        "\n",
        "![](https://github.com/LaneMatthewJ/stemHubClasses/blob/main/codingForEveryone/images/printing.jpg?raw=true)\n",
        "\n",
        "There are a couple ways to do it in a colab notebook: "
      ]
    },
    {
      "cell_type": "code",
      "metadata": {
        "colab": {
          "base_uri": "https://localhost:8080/"
        },
        "id": "Flq3j1iFgbo6",
        "outputId": "a55d8797-6829-4085-dc0a-28baf569135a"
      },
      "source": [
        "print(myVariable)"
      ],
      "execution_count": null,
      "outputs": [
        {
          "output_type": "stream",
          "name": "stdout",
          "text": [
            "2\n"
          ]
        }
      ]
    },
    {
      "cell_type": "markdown",
      "metadata": {
        "id": "7qB0nEEVjy62"
      },
      "source": [
        "You can also just type the variable into a cell: "
      ]
    },
    {
      "cell_type": "code",
      "metadata": {
        "colab": {
          "base_uri": "https://localhost:8080/"
        },
        "id": "oc-C2xr9jx-G",
        "outputId": "9615109a-68f8-4a14-bb71-c86393d39498"
      },
      "source": [
        "myVariable"
      ],
      "execution_count": null,
      "outputs": [
        {
          "output_type": "execute_result",
          "data": {
            "text/plain": [
              "2"
            ]
          },
          "metadata": {},
          "execution_count": 3
        }
      ]
    },
    {
      "cell_type": "markdown",
      "metadata": {
        "id": "aU4yj8Ppj_2q"
      },
      "source": [
        "But watch out, if it isn't the last value in the cell, it won't print (unless you type `print()`): "
      ]
    },
    {
      "cell_type": "code",
      "metadata": {
        "id": "Yo8KDe4-j6sb"
      },
      "source": [
        "myVariable # Won't print because it's not the last line of the cell \n",
        "anotherVariable = 20"
      ],
      "execution_count": null,
      "outputs": []
    },
    {
      "cell_type": "markdown",
      "metadata": {
        "id": "cVxHzkT_kWlV"
      },
      "source": [
        "So, it's recommended that you only use `print()` for now! \n",
        "\n",
        "\n",
        "## Variables Can Store Numbers and Strings: \n",
        "The numbers you can store are: \n",
        "- integers (whole numbers)\n",
        "- floats (numbers with decimal points)"
      ]
    },
    {
      "cell_type": "code",
      "metadata": {
        "colab": {
          "base_uri": "https://localhost:8080/"
        },
        "id": "khwlP4yykRvw",
        "outputId": "44dbf2cd-4f49-4aa6-d410-ed7f0b990b0b"
      },
      "source": [
        "numberVariable = 25\n",
        "anotherNumberVariable = 2.4\n",
        "\n",
        "print(numberVariable)\n",
        "print(anotherNumberVariable)\n",
        "\n",
        "print(type(numberVariable))\n",
        "print(type(anotherNumberVariable))"
      ],
      "execution_count": null,
      "outputs": [
        {
          "output_type": "stream",
          "name": "stdout",
          "text": [
            "25\n",
            "2.4\n",
            "<class 'int'>\n",
            "<class 'float'>\n"
          ]
        }
      ]
    },
    {
      "cell_type": "markdown",
      "metadata": {
        "id": "oTINKV8vlLdf"
      },
      "source": [
        "Strings are just text stored in a variable!"
      ]
    },
    {
      "cell_type": "code",
      "metadata": {
        "colab": {
          "base_uri": "https://localhost:8080/"
        },
        "id": "DqFLgSxqlLNB",
        "outputId": "a8d8612d-5183-4b6f-b404-1e48baaa2f3b"
      },
      "source": [
        "someString = \"Hello world! I am a string\"\n",
        "print(someString)\n",
        "print(type(someString))"
      ],
      "execution_count": null,
      "outputs": [
        {
          "output_type": "stream",
          "name": "stdout",
          "text": [
            "Hello world! I am a string\n",
            "<class 'str'>\n"
          ]
        }
      ]
    },
    {
      "cell_type": "markdown",
      "metadata": {
        "id": "SHioLfk3lfdV"
      },
      "source": [
        "## Operators! \n",
        "\n",
        "Storing data is great, but not entirely useful if we can't do anything with them! So we can use operators to do things! "
      ]
    },
    {
      "cell_type": "code",
      "metadata": {
        "colab": {
          "base_uri": "https://localhost:8080/"
        },
        "id": "DfgjbM1Ck8B3",
        "outputId": "5fab7e52-19b7-4b61-ad35-4828e8ee1450"
      },
      "source": [
        "print(numberVariable + anotherNumberVariable)"
      ],
      "execution_count": null,
      "outputs": [
        {
          "output_type": "stream",
          "name": "stdout",
          "text": [
            "27.4\n"
          ]
        }
      ]
    },
    {
      "cell_type": "markdown",
      "metadata": {
        "id": "nARye9VUm9fT"
      },
      "source": [
        "We can do math! But we need to store it! So let's save our sum into another variable! "
      ]
    },
    {
      "cell_type": "code",
      "metadata": {
        "colab": {
          "base_uri": "https://localhost:8080/"
        },
        "id": "_L3MOqLvm8w4",
        "outputId": "812d0c9b-c9e3-4622-f171-08ddfd1a42f0"
      },
      "source": [
        "someSum = numberVariable + anotherNumberVariable\n",
        "print(someSum)"
      ],
      "execution_count": null,
      "outputs": [
        {
          "output_type": "stream",
          "name": "stdout",
          "text": [
            "27.4\n"
          ]
        }
      ]
    },
    {
      "cell_type": "markdown",
      "metadata": {
        "id": "uuKL9zqZvpud"
      },
      "source": [
        "You can even add numbers to themselves! "
      ]
    },
    {
      "cell_type": "code",
      "metadata": {
        "colab": {
          "base_uri": "https://localhost:8080/"
        },
        "id": "nwaiVFvGvot2",
        "outputId": "51ce09d0-0fa1-47d5-b540-4f8bea82255c"
      },
      "source": [
        "someSum = someSum + 10\n",
        "print(someSum)"
      ],
      "execution_count": null,
      "outputs": [
        {
          "output_type": "stream",
          "name": "stdout",
          "text": [
            "37.4\n"
          ]
        }
      ]
    },
    {
      "cell_type": "markdown",
      "metadata": {
        "id": "h4gkXRNQop6E"
      },
      "source": [
        "You can use any math operators on your numerical variables! \n",
        "\n",
        "+, -, *, /\n",
        "\n",
        "### An operator you haven't seen before?? \n",
        "% - MODULUS\n",
        "\n",
        "The `%` operator gives you the remainder of a division! \n",
        "\n",
        "On a calculator, when you do $\\frac{9}{8}$ you wind up with `1.125`. \n",
        "\n",
        "When Coding: 9%8 gives you that remainder instead!"
      ]
    },
    {
      "cell_type": "code",
      "metadata": {
        "colab": {
          "base_uri": "https://localhost:8080/"
        },
        "id": "vUT16aow0kof",
        "outputId": "32d5cb49-f4bb-40a8-fa21-3e969d046a75"
      },
      "source": [
        "9%8"
      ],
      "execution_count": null,
      "outputs": [
        {
          "output_type": "execute_result",
          "data": {
            "text/plain": [
              "1"
            ]
          },
          "metadata": {},
          "execution_count": 45
        }
      ]
    },
    {
      "cell_type": "markdown",
      "metadata": {
        "id": "sVSJ5dD703KX"
      },
      "source": [
        "What's neat about the Modulus is you can see if a number is even by seeing if `number % 2` is 0! "
      ]
    },
    {
      "cell_type": "code",
      "metadata": {
        "colab": {
          "base_uri": "https://localhost:8080/"
        },
        "id": "MGQN-lBN0039",
        "outputId": "f9130d64-616b-4ecc-cbab-d39b502b65b5"
      },
      "source": [
        "10%2"
      ],
      "execution_count": null,
      "outputs": [
        {
          "output_type": "execute_result",
          "data": {
            "text/plain": [
              "0"
            ]
          },
          "metadata": {},
          "execution_count": 46
        }
      ]
    },
    {
      "cell_type": "code",
      "metadata": {
        "colab": {
          "base_uri": "https://localhost:8080/"
        },
        "id": "32S00fkp04OM",
        "outputId": "04ec8f6a-4d4d-4f4d-f71e-d5af87797270"
      },
      "source": [
        "11%2"
      ],
      "execution_count": null,
      "outputs": [
        {
          "output_type": "execute_result",
          "data": {
            "text/plain": [
              "1"
            ]
          },
          "metadata": {},
          "execution_count": 47
        }
      ]
    },
    {
      "cell_type": "markdown",
      "metadata": {
        "id": "Qd0KEbuqz4H-"
      },
      "source": [
        ""
      ]
    },
    {
      "cell_type": "markdown",
      "metadata": {
        "id": "BqZszXvJnHsR"
      },
      "source": [
        "### But about strings?\n",
        "\n",
        "The + operator works with strings too!"
      ]
    },
    {
      "cell_type": "code",
      "metadata": {
        "colab": {
          "base_uri": "https://localhost:8080/"
        },
        "id": "ZgG8K8mVnHJt",
        "outputId": "7336256e-c1b0-43f7-e214-d89eac7a92c8"
      },
      "source": [
        "myName = \"Matt\"\n",
        "likes = \"likes food\"\n",
        "print(myName + likes)"
      ],
      "execution_count": null,
      "outputs": [
        {
          "output_type": "stream",
          "name": "stdout",
          "text": [
            "Mattlikes food\n"
          ]
        }
      ]
    },
    {
      "cell_type": "markdown",
      "metadata": {
        "id": "9YsFF5MGnr74"
      },
      "source": [
        "But what happened? There's no space between `Matt` and `likes food`...\n",
        "\n",
        "That's because our string `Matt` doesn't have a space at the end, and the beginning of `likes food` doesn't have a space!\n",
        "\n",
        "So let's add a space between them, AND then save our output to a new variable! "
      ]
    },
    {
      "cell_type": "code",
      "metadata": {
        "colab": {
          "base_uri": "https://localhost:8080/"
        },
        "id": "FqbqFEQtm7NB",
        "outputId": "cf3bf24d-dfd6-4b1d-a813-ca63868050f1"
      },
      "source": [
        "whatILike = myName + ' ' + likes\n",
        "print(whatILike)"
      ],
      "execution_count": null,
      "outputs": [
        {
          "output_type": "stream",
          "name": "stdout",
          "text": [
            "Matt likes food\n"
          ]
        }
      ]
    },
    {
      "cell_type": "markdown",
      "metadata": {
        "id": "xPch7GPZo9qE"
      },
      "source": [
        "## Dealing with LOTS of data\n",
        "\n",
        "As a kid, I loved the spice girls, so suppose we wanted to write a program about them? "
      ]
    },
    {
      "cell_type": "code",
      "metadata": {
        "id": "LYhsM3KvoZTA"
      },
      "source": [
        "poshSpice = \"Victoria Beckham\"\n",
        "scarySpice = \"Mel B\"\n",
        "babySpice = \"Emma Bunton\"\n",
        "sportySpice = \"Mel C\"\n",
        "gingerSpice = \"Geri Halliwell\""
      ],
      "execution_count": null,
      "outputs": []
    },
    {
      "cell_type": "markdown",
      "metadata": {
        "id": "MFnbpwYBpyKf"
      },
      "source": [
        "Let's write prints that print out how much we like all of them! "
      ]
    },
    {
      "cell_type": "code",
      "metadata": {
        "colab": {
          "base_uri": "https://localhost:8080/"
        },
        "id": "zcOvhbK3p6cU",
        "outputId": "225a4640-5626-4092-8a51-4b7f93ba4494"
      },
      "source": [
        "likeString = \" is super cool!\" # leave the space at the beginning so we can concatenate the string! \n",
        "\n",
        "print(poshSpice + likeString)\n",
        "print(scarySpice + likeString)\n",
        "print(babySpice + likeString)\n",
        "print(sportySpice + likeString)\n",
        "print(gingerSpice + likeString) "
      ],
      "execution_count": null,
      "outputs": [
        {
          "output_type": "stream",
          "name": "stdout",
          "text": [
            "Victoria Beckham is super cool!\n",
            "Mel B is super cool!\n",
            "Emma Bunton is super cool!\n",
            "Mel C is super cool!\n",
            "Geri Halliwell is super cool!\n"
          ]
        }
      ]
    },
    {
      "cell_type": "markdown",
      "metadata": {
        "id": "teWsmwgAqTBQ"
      },
      "source": [
        "There's nothing wrong with what we did above, BUT it does seem to take a lot of typing the same exact thing over... and over... and over... \n",
        "\n",
        "There must me some way to not do such tedious typing.... And there is! \n",
        "\n",
        "By using a **list**, we can store ALL of the spice girls in one variable! \n",
        "\n",
        "## Lists \n",
        "\n",
        "Lists are a way to store multiple values within a single variable!  \n",
        "\n",
        "Lists are declared like: \n",
        "\n",
        "```python\n",
        "  someList = [\"some\", \"values\", \"separated\", \"by\",\"commas\", \"inside\",\"square\", \"brackets\"] \n",
        "```\n",
        "\n",
        "Going back to the bucket analogy, imagine a suuuuper big bucket with little divots (the analogy is breaking down here but... you'll see!): \n",
        "\n",
        "![](https://github.com/LaneMatthewJ/stemHubClasses/blob/main/codingForEveryone/images/list.jpg?raw=true)\n"
      ]
    },
    {
      "cell_type": "code",
      "metadata": {
        "colab": {
          "base_uri": "https://localhost:8080/"
        },
        "id": "hfY88t1mpxZs",
        "outputId": "cb381a65-a73c-4866-a72f-5e4a4fef601b"
      },
      "source": [
        "# we already declared our spice girls above, so lets' just add those variables to our list! \n",
        "spiceCabinet = [ poshSpice,  scarySpice,  babySpice, sportySpice, gingerSpice ]\n",
        "print(spiceCabinet)"
      ],
      "execution_count": null,
      "outputs": [
        {
          "output_type": "stream",
          "name": "stdout",
          "text": [
            "['Victoria Beckham', 'Mel B', 'Emma Bunton', 'Mel C', 'Geri Halliwell']\n"
          ]
        }
      ]
    },
    {
      "cell_type": "markdown",
      "metadata": {
        "id": "xDpBYZNLrWHz"
      },
      "source": [
        "When we added our Spice Girl variables to the list, we now have all of our values that were individually stored in each of the variables all conveniently stored in one spot: The Spice Cabinet! \n",
        "\n",
        "But how do we print that we really like them? "
      ]
    },
    {
      "cell_type": "code",
      "metadata": {
        "colab": {
          "base_uri": "https://localhost:8080/",
          "height": 165
        },
        "id": "THHQMye_rRR7",
        "outputId": "4455768a-e60d-4f80-9368-228aa962c57a"
      },
      "source": [
        "print(spiceCabinet + likeString)"
      ],
      "execution_count": null,
      "outputs": [
        {
          "output_type": "error",
          "ename": "TypeError",
          "evalue": "ignored",
          "traceback": [
            "\u001b[0;31m---------------------------------------------------------------------------\u001b[0m",
            "\u001b[0;31mTypeError\u001b[0m                                 Traceback (most recent call last)",
            "\u001b[0;32m<ipython-input-29-97224bfe3636>\u001b[0m in \u001b[0;36m<module>\u001b[0;34m()\u001b[0m\n\u001b[0;32m----> 1\u001b[0;31m \u001b[0mprint\u001b[0m\u001b[0;34m(\u001b[0m\u001b[0mspiceCabinet\u001b[0m \u001b[0;34m+\u001b[0m \u001b[0mlikeString\u001b[0m\u001b[0;34m)\u001b[0m\u001b[0;34m\u001b[0m\u001b[0;34m\u001b[0m\u001b[0m\n\u001b[0m",
            "\u001b[0;31mTypeError\u001b[0m: can only concatenate list (not \"str\") to list"
          ]
        }
      ]
    },
    {
      "cell_type": "markdown",
      "metadata": {
        "id": "IuvYrSTlrt4k"
      },
      "source": [
        "Oh no! We have an error! Luckily notebooks tell us immediately when we have an error so we don't have to write an entire program first only to find out there was an error 2 lines in. \n",
        "\n",
        "It looks like we can't just attempt to append our `likeString` to an entire list! \n",
        "\n",
        "We can individually access each of our Spice Girls by specifying their **index**! \n",
        "\n",
        "HEADS UP! Indices are weird though! They start counting at zero instead of 1! "
      ]
    },
    {
      "cell_type": "code",
      "metadata": {
        "colab": {
          "base_uri": "https://localhost:8080/"
        },
        "id": "9JtTVdQcrrxE",
        "outputId": "d1c3bf8d-40b9-4525-ccf6-d1aa5071c872"
      },
      "source": [
        "print(spiceCabinet[0] + likeString)\n",
        "print(spiceCabinet[1] + likeString)\n",
        "print(spiceCabinet[2] + likeString)\n",
        "print(spiceCabinet[3] + likeString)\n",
        "print(spiceCabinet[4] + likeString)"
      ],
      "execution_count": null,
      "outputs": [
        {
          "output_type": "stream",
          "name": "stdout",
          "text": [
            "Victoria Beckham is super cool!\n",
            "Mel B is super cool!\n",
            "Emma Bunton is super cool!\n",
            "Mel C is super cool!\n",
            "Geri Halliwell is super cool!\n"
          ]
        }
      ]
    },
    {
      "cell_type": "markdown",
      "metadata": {
        "id": "0JQgjQ-Is1kk"
      },
      "source": [
        "But here we are, still typing out a million lines of code, just to print how we think the Spice Girls are! \n",
        "\n",
        "There is a better way! \n",
        "\n",
        "## Loops\n",
        "\n",
        "By using a **loop** we can write code to iterate over lists so we don't have to tediously type the same thing over and over and over! \n",
        "\n",
        "There are a number of different kinds of loops, like `while` loops and `for` loops. We're going to stick to `for` loops because those have a natural stopping codition! \n",
        "\n",
        "Their general construction is: \n",
        "\n",
        "```python\n",
        "for value in list: \n",
        "  # do something\n",
        "  print(value)\n",
        "```\n",
        "\n",
        "If you think about it, all a loop really does is roll up a bunch of code into one little statement! \n",
        "![](https://github.com/LaneMatthewJ/stemHubClasses/blob/main/codingForEveryone/images/loops.jpg?raw=true)"
      ]
    },
    {
      "cell_type": "code",
      "metadata": {
        "colab": {
          "base_uri": "https://localhost:8080/"
        },
        "id": "Tdm1EJCZuFGX",
        "outputId": "b4e63e62-3cc6-43d2-8219-bfa24cdc7904"
      },
      "source": [
        "for individualSpiceGirl in spiceCabinet:\n",
        "  ## all of the code we write under the for loop with a tab gets executed \"within the loop\"\n",
        "  print(individualSpiceGirl + likeString) \n",
        "\n",
        "# Code that is not indented executes outside of the for loop! \n",
        "print(\"We're done!\")"
      ],
      "execution_count": null,
      "outputs": [
        {
          "output_type": "stream",
          "name": "stdout",
          "text": [
            "Victoria Beckham is super cool!\n",
            "Mel B is super cool!\n",
            "Emma Bunton is super cool!\n",
            "Mel C is super cool!\n",
            "Geri Halliwell is super cool!\n",
            "We're done!\n"
          ]
        }
      ]
    },
    {
      "cell_type": "markdown",
      "metadata": {
        "id": "blx2yLKruUT8"
      },
      "source": [
        "We saved ourselves so much code!\n",
        "\n",
        "NOW! You've been following along, in the following space, try writing your own list of numbers, but instead of just printing them out, try adding them all together and then printing out the total sum! "
      ]
    },
    {
      "cell_type": "code",
      "metadata": {
        "id": "lhiSLz8Fsg0S"
      },
      "source": [
        "numberList = [ ]\n",
        "\n",
        "for  in  :\n"
      ],
      "execution_count": null,
      "outputs": []
    },
    {
      "cell_type": "markdown",
      "metadata": {
        "id": "Qji_0-hAvz9E"
      },
      "source": [
        "By doing the above code, you've actually just done calculus! \n",
        "\n",
        "$$\n",
        "\\sum_1^M m, \\text{Where $M$ = | numberList |}\n",
        "$$\n",
        "\n",
        "BONKERS! \n",
        "\n",
        "\n",
        "## Control Flow\n",
        "\n",
        "One of the most powerful parts of programming is that we can decide when to interact with certain variables! We do that \"control flow\" with `if` statements. \n",
        "\n",
        "With these statements, we \"control the flow\" of our programs by satisfying some \"condition\": \n",
        "\n",
        "```python\n",
        "if someCondition: \n",
        "  print(\"Condition Satisfied\")\n",
        "else: \n",
        "  print(\"Not satisfied\")\n",
        "```\n",
        "\n",
        "Let's start simple:"
      ]
    },
    {
      "cell_type": "code",
      "metadata": {
        "colab": {
          "base_uri": "https://localhost:8080/"
        },
        "id": "ZFZRFrX1u3G-",
        "outputId": "e067c21e-3111-4def-aa80-80e391544e9c"
      },
      "source": [
        "if 1 > 0: \n",
        "  print(\"one is greater than zero\")"
      ],
      "execution_count": null,
      "outputs": [
        {
          "output_type": "stream",
          "name": "stdout",
          "text": [
            "one is greater than zero\n"
          ]
        }
      ]
    },
    {
      "cell_type": "code",
      "metadata": {
        "colab": {
          "base_uri": "https://localhost:8080/"
        },
        "id": "k781Rm0ou3Oo",
        "outputId": "43fe1de1-2538-40ad-a316-f93de1bc5215"
      },
      "source": [
        "if 0 > 1: \n",
        "  print(\"zero is greater than one\")\n",
        "else:\n",
        "  print(\"zero is most definitely not greater than one!\")\n"
      ],
      "execution_count": null,
      "outputs": [
        {
          "output_type": "stream",
          "name": "stdout",
          "text": [
            "zero is most definitely not greater than one!\n"
          ]
        }
      ]
    },
    {
      "cell_type": "markdown",
      "metadata": {
        "id": "gYx5ISnxxTRU"
      },
      "source": [
        "The conditionals above are great examples, but we can already see ahead of time what's to happen because we hard coded the values!\n",
        "\n",
        "What if we wanted to say who our favorite Spice Girl was? We would need to satisfy a specific condition! "
      ]
    },
    {
      "cell_type": "code",
      "metadata": {
        "colab": {
          "base_uri": "https://localhost:8080/"
        },
        "id": "2O-DmKtVxOpT",
        "outputId": "b7643f93-e023-4e74-c291-1a4823d8ff5d"
      },
      "source": [
        "favoriteSpiceGirl = 'Mel B'\n",
        "\n",
        "for individualSpiceGirl in spiceCabinet: \n",
        "  if individualSpiceGirl == favoriteSpiceGirl: \n",
        "    print(\"Scary Spice is the coolest.\")  \n",
        "  else: \n",
        "    print(individualSpiceGirl + likeString)\n"
      ],
      "execution_count": null,
      "outputs": [
        {
          "output_type": "stream",
          "name": "stdout",
          "text": [
            "Victoria Beckham is super cool!\n",
            "Scary Spice is the coolest.\n",
            "Emma Bunton is super cool!\n",
            "Mel C is super cool!\n",
            "Geri Halliwell is super cool!\n"
          ]
        }
      ]
    },
    {
      "cell_type": "markdown",
      "metadata": {
        "id": "5JhOGo2GycOf"
      },
      "source": [
        "BUT What if we have multiple opinions? We can use `elif` to have multiple different conditions!"
      ]
    },
    {
      "cell_type": "code",
      "metadata": {
        "colab": {
          "base_uri": "https://localhost:8080/"
        },
        "id": "2AHojNnDyWuM",
        "outputId": "b9da0efd-8601-4d08-b547-6134564b0875"
      },
      "source": [
        "favoriteSpiceGirl = 'Mel B'\n",
        "actualSpice = 'Geri Halliwell'\n",
        "\n",
        "for individualSpiceGirl in spiceCabinet: \n",
        "  if individualSpiceGirl == favoriteSpiceGirl: \n",
        "    print(\"Scary Spice is the coolest.\")  \n",
        "  elif individualSpiceGirl == actualSpice: \n",
        "    print(\"Ginger Spice is the only Spice Girl named after an actual spice...\")\n",
        "  else: \n",
        "    print(individualSpiceGirl + likeString)\n"
      ],
      "execution_count": null,
      "outputs": [
        {
          "output_type": "stream",
          "name": "stdout",
          "text": [
            "Victoria Beckham is super cool!\n",
            "Scary Spice is the coolest.\n",
            "Emma Bunton is super cool!\n",
            "Mel C is super cool!\n",
            "Ginger Spice is the only Spice Girl named after an actual spice...\n"
          ]
        }
      ]
    },
    {
      "cell_type": "markdown",
      "metadata": {
        "id": "TjiigcApzZnK"
      },
      "source": [
        "NOW! Time for a quick exercise! Previously, you did some really cool calculus! This time, create a list from 1 to 20, and if the numbers are even, print \"EVEN\" and if they're odd, print \"ODD\"! \n",
        "\n",
        "Hint to create a list of numbers from 1 to 20, try: \n",
        "```python \n",
        "oneToTwenty = range(20) \n",
        "```\n"
      ]
    },
    {
      "cell_type": "markdown",
      "metadata": {
        "id": "EE-7Sock8mua"
      },
      "source": [
        "Now, we've been typing out a ton of loops to print out our lists, but instead of constantly typing out the same loop over and over again, we wanted to write some code that did it for us? How would we do that? \n",
        "\n",
        "## Functions\n",
        "\n",
        "A function is nothing more than just writing a slightly more abstract chunk of code that we want to repeat without having to constantly copy and paste the same code over and over again! \n",
        "\n",
        "A function gets declared with the keyword of `def`: \n",
        "\n",
        "```python\n",
        "def myFunctionName( parameterString ): \n",
        "  # whatever repeated code we want goes here\n",
        "  print(parameterString)\n",
        "```\n",
        "\n",
        "We can then call our functions like: \n",
        "\n",
        "```python\n",
        "  myFunctionName( \"HELLO! I AM A PARAMETER BEING PASSED IN\" )\n",
        "```\n",
        "\n",
        "Let's write a function to print out a list! "
      ]
    },
    {
      "cell_type": "code",
      "metadata": {
        "id": "nYr_jS8rzhBv"
      },
      "source": [
        "def listPrinter( myList ): \n",
        "  for listItem in myList: \n",
        "    print(\"My list item is: \" + listItem) "
      ],
      "execution_count": null,
      "outputs": []
    },
    {
      "cell_type": "code",
      "metadata": {
        "colab": {
          "base_uri": "https://localhost:8080/"
        },
        "id": "jIr59uPv94me",
        "outputId": "1b66c055-ba59-4212-d2cd-92467b0c10c2"
      },
      "source": [
        "listPrinter( spiceCabinet )"
      ],
      "execution_count": null,
      "outputs": [
        {
          "output_type": "stream",
          "name": "stdout",
          "text": [
            "My list item is: Victoria Beckham\n",
            "My list item is: Mel B\n",
            "My list item is: Emma Bunton\n",
            "My list item is: Mel C\n",
            "My list item is: Geri Halliwell\n"
          ]
        }
      ]
    },
    {
      "cell_type": "code",
      "metadata": {
        "colab": {
          "base_uri": "https://localhost:8080/",
          "height": 252
        },
        "id": "ADY7BpMt98cC",
        "outputId": "d8e624d8-f363-4087-e4fa-f804e73e5a9f"
      },
      "source": [
        "listPrinter( range(10) )"
      ],
      "execution_count": null,
      "outputs": [
        {
          "output_type": "error",
          "ename": "TypeError",
          "evalue": "ignored",
          "traceback": [
            "\u001b[0;31m---------------------------------------------------------------------------\u001b[0m",
            "\u001b[0;31mTypeError\u001b[0m                                 Traceback (most recent call last)",
            "\u001b[0;32m<ipython-input-58-f88cd2693945>\u001b[0m in \u001b[0;36m<module>\u001b[0;34m()\u001b[0m\n\u001b[0;32m----> 1\u001b[0;31m \u001b[0mlistPrinter\u001b[0m\u001b[0;34m(\u001b[0m \u001b[0mrange\u001b[0m\u001b[0;34m(\u001b[0m\u001b[0;36m10\u001b[0m\u001b[0;34m)\u001b[0m \u001b[0;34m)\u001b[0m\u001b[0;34m\u001b[0m\u001b[0;34m\u001b[0m\u001b[0m\n\u001b[0m",
            "\u001b[0;32m<ipython-input-56-65d135f555a0>\u001b[0m in \u001b[0;36mlistPrinter\u001b[0;34m(myList)\u001b[0m\n\u001b[1;32m      1\u001b[0m \u001b[0;32mdef\u001b[0m \u001b[0mlistPrinter\u001b[0m\u001b[0;34m(\u001b[0m \u001b[0mmyList\u001b[0m \u001b[0;34m)\u001b[0m\u001b[0;34m:\u001b[0m\u001b[0;34m\u001b[0m\u001b[0;34m\u001b[0m\u001b[0m\n\u001b[1;32m      2\u001b[0m   \u001b[0;32mfor\u001b[0m \u001b[0mlistItem\u001b[0m \u001b[0;32min\u001b[0m \u001b[0mmyList\u001b[0m\u001b[0;34m:\u001b[0m\u001b[0;34m\u001b[0m\u001b[0;34m\u001b[0m\u001b[0m\n\u001b[0;32m----> 3\u001b[0;31m     \u001b[0mprint\u001b[0m\u001b[0;34m(\u001b[0m\u001b[0;34m\"My list item is: \"\u001b[0m \u001b[0;34m+\u001b[0m \u001b[0mlistItem\u001b[0m\u001b[0;34m)\u001b[0m\u001b[0;34m\u001b[0m\u001b[0;34m\u001b[0m\u001b[0m\n\u001b[0m",
            "\u001b[0;31mTypeError\u001b[0m: can only concatenate str (not \"int\") to str"
          ]
        }
      ]
    },
    {
      "cell_type": "markdown",
      "metadata": {
        "id": "SoUYuOct-pze"
      },
      "source": [
        "Oh no! Our original function was using the `+` assuming our values were strings!\n",
        "\n",
        "How would we get around this?? "
      ]
    },
    {
      "cell_type": "code",
      "metadata": {
        "id": "CBTT7aqV9_IW"
      },
      "source": [
        "def betterListPrinter( myList ): \n",
        "  for listItem in myList: \n",
        "    print(\"My list item is: \", listItem) # You can also separate values in a print with a comma"
      ],
      "execution_count": null,
      "outputs": []
    },
    {
      "cell_type": "markdown",
      "metadata": {
        "id": "ZoWig0UR_J9b"
      },
      "source": [
        "It's good practice to try to write your functions to handle all the potential scenarios that you'll likely use!"
      ]
    },
    {
      "cell_type": "code",
      "metadata": {
        "colab": {
          "base_uri": "https://localhost:8080/"
        },
        "id": "fxugb_Cd-O4z",
        "outputId": "4fa193db-c0fe-429b-a6e5-7301475cf963"
      },
      "source": [
        "betterListPrinter(spiceCabinet)"
      ],
      "execution_count": null,
      "outputs": [
        {
          "output_type": "stream",
          "name": "stdout",
          "text": [
            "My list item is:  Victoria Beckham\n",
            "My list item is:  Mel B\n",
            "My list item is:  Emma Bunton\n",
            "My list item is:  Mel C\n",
            "My list item is:  Geri Halliwell\n"
          ]
        }
      ]
    },
    {
      "cell_type": "code",
      "metadata": {
        "colab": {
          "base_uri": "https://localhost:8080/"
        },
        "id": "KRbEgClq-QYo",
        "outputId": "9a7f1127-0a40-45fb-8570-a09c58e5cfc7"
      },
      "source": [
        "betterListPrinter(range(10))"
      ],
      "execution_count": null,
      "outputs": [
        {
          "output_type": "stream",
          "name": "stdout",
          "text": [
            "My list item is:  0\n",
            "My list item is:  1\n",
            "My list item is:  2\n",
            "My list item is:  3\n",
            "My list item is:  4\n",
            "My list item is:  5\n",
            "My list item is:  6\n",
            "My list item is:  7\n",
            "My list item is:  8\n",
            "My list item is:  9\n"
          ]
        }
      ]
    },
    {
      "cell_type": "markdown",
      "metadata": {
        "id": "nHZphuWU-YMl"
      },
      "source": [
        "Now, as an exercise, try writing a function that takes in a number, and then sums all numbers leading up to it \n",
        "\n",
        "Hint: it's almost exactly like our very first exercise! "
      ]
    },
    {
      "cell_type": "code",
      "metadata": {
        "id": "CK5kTA1qD1cL"
      },
      "source": [
        "# :D GOOD LUCK"
      ],
      "execution_count": null,
      "outputs": []
    },
    {
      "cell_type": "markdown",
      "metadata": {
        "id": "8dJKzIprD3si"
      },
      "source": [
        "## Dictionaries\n",
        "\n",
        "One extremely neat construction in python is the use of \"dictionaries\". A dictionary is a \"key\" to \"value\" pairing somewhat like a list, but instead of using numbers to access the elements (like we saw above), we use words! \n",
        "\n",
        "A dictionary is defined like: \n",
        "```python\n",
        "  myDict = {\n",
        "    \"someKey\": \"someValue\"\n",
        "  }\n",
        "```\n",
        "So, if we then wanted to access our value `someValue`, we would type: \n",
        "\n",
        "```python\n",
        "print(myDict[\"someKey\"])\n",
        "```\n",
        "\n",
        "Let's rewrite our Spice Cabinet! "
      ]
    },
    {
      "cell_type": "code",
      "metadata": {
        "id": "mw2jr2t9D1kF"
      },
      "source": [
        "spiceCabinetDictionary = {\n",
        "  \"poshSpice\" : \"Victoria Beckham\",\n",
        "  \"scarySpice\" : \"Mel B\",\n",
        "  \"babySpice\" : \"Emma Bunton\",\n",
        "  \"sportySpice\" : \"Mel C\",\n",
        "  \"gingerSpice\" : \"Geri Halliwell\"\n",
        "}"
      ],
      "execution_count": null,
      "outputs": []
    },
    {
      "cell_type": "markdown",
      "metadata": {
        "id": "p8Au2mZBE0Dm"
      },
      "source": [
        "So now, instead of having to remember which index we need to access, we can type in a specific value! "
      ]
    },
    {
      "cell_type": "code",
      "metadata": {
        "colab": {
          "base_uri": "https://localhost:8080/",
          "height": 35
        },
        "id": "sNXyXUKpD1m_",
        "outputId": "98ce77a0-4718-4cba-a9ca-87729e0c1425"
      },
      "source": [
        "spiceCabinetDictionary['sportySpice']"
      ],
      "execution_count": null,
      "outputs": [
        {
          "output_type": "execute_result",
          "data": {
            "application/vnd.google.colaboratory.intrinsic+json": {
              "type": "string"
            },
            "text/plain": [
              "'Mel C'"
            ]
          },
          "metadata": {},
          "execution_count": 113
        }
      ]
    },
    {
      "cell_type": "markdown",
      "metadata": {
        "id": "W9emmKueE9_j"
      },
      "source": [
        "Tons of data are stored as dictionaries! \n",
        "\n",
        "For example, when dealing with a lot of internet calls, dictionaries come in handy! \n",
        "\n",
        "Let's take a look at another one of the great powers of python: THE LIBRARIES! \n",
        "\n",
        "Python is an open sourced language that allows for users to create their own code and share it online for others to use and build off of! \n",
        "\n",
        "The requests library is one that comes with the default installation of python, so we don't have to do anything special to install it! So let's use the requests library to access a website that has data about everyone's favorite book series, the Lord of the Rings! "
      ]
    },
    {
      "cell_type": "code",
      "metadata": {
        "colab": {
          "base_uri": "https://localhost:8080/"
        },
        "id": "O2-a93O--Rrg",
        "outputId": "dc13b61f-851b-438a-9890-05c6f36c258b"
      },
      "source": [
        "# Import a package into your \n",
        "import requests\n",
        "\n",
        "lotrAPIURL = \"https://the-one-api.dev/v2/book\"\n",
        "response = requests.get(lotrAPIURL)\n",
        "response\n"
      ],
      "execution_count": null,
      "outputs": [
        {
          "output_type": "execute_result",
          "data": {
            "text/plain": [
              "<Response [200]>"
            ]
          },
          "metadata": {},
          "execution_count": 102
        }
      ]
    },
    {
      "cell_type": "code",
      "metadata": {
        "colab": {
          "base_uri": "https://localhost:8080/"
        },
        "id": "q8Ulvv92_x9I",
        "outputId": "6ee1905b-dc37-4860-a229-412abd19dd44"
      },
      "source": [
        "lotrjson = response.json()\n",
        "lotrjson"
      ],
      "execution_count": null,
      "outputs": [
        {
          "output_type": "execute_result",
          "data": {
            "text/plain": [
              "{'docs': [{'_id': '5cf5805fb53e011a64671582',\n",
              "   'name': 'The Fellowship Of The Ring'},\n",
              "  {'_id': '5cf58077b53e011a64671583', 'name': 'The Two Towers'},\n",
              "  {'_id': '5cf58080b53e011a64671584', 'name': 'The Return Of The King'}],\n",
              " 'limit': 1000,\n",
              " 'offset': 0,\n",
              " 'page': 1,\n",
              " 'pages': 1,\n",
              " 'total': 3}"
            ]
          },
          "metadata": {},
          "execution_count": 88
        }
      ]
    },
    {
      "cell_type": "code",
      "metadata": {
        "colab": {
          "base_uri": "https://localhost:8080/"
        },
        "id": "zJMQR2dNAzNm",
        "outputId": "f603a14d-d9b9-4260-f9a4-50daeb0a7cb5"
      },
      "source": [
        "lotrBookArray = lotrjson['docs']\n",
        "lotrBookArray"
      ],
      "execution_count": null,
      "outputs": [
        {
          "output_type": "execute_result",
          "data": {
            "text/plain": [
              "[{'_id': '5cf5805fb53e011a64671582', 'name': 'The Fellowship Of The Ring'},\n",
              " {'_id': '5cf58077b53e011a64671583', 'name': 'The Two Towers'},\n",
              " {'_id': '5cf58080b53e011a64671584', 'name': 'The Return Of The King'}]"
            ]
          },
          "metadata": {},
          "execution_count": 90
        }
      ]
    },
    {
      "cell_type": "code",
      "metadata": {
        "colab": {
          "base_uri": "https://localhost:8080/"
        },
        "id": "K8_l89zl_ydx",
        "outputId": "1c016a9f-10a1-48a5-9cb8-77508ce432a8"
      },
      "source": [
        "fellowship = lotrBookArray[1]\n",
        "fellowship"
      ],
      "execution_count": null,
      "outputs": [
        {
          "output_type": "execute_result",
          "data": {
            "text/plain": [
              "{'_id': '5cf58077b53e011a64671583', 'name': 'The Two Towers'}"
            ]
          },
          "metadata": {},
          "execution_count": 92
        }
      ]
    },
    {
      "cell_type": "code",
      "metadata": {
        "colab": {
          "base_uri": "https://localhost:8080/",
          "height": 35
        },
        "id": "cjCqgLpPBKnz",
        "outputId": "8eced6bb-02bd-4a69-c7b7-bf87c6c82b83"
      },
      "source": [
        "fellowship['_id']"
      ],
      "execution_count": null,
      "outputs": [
        {
          "output_type": "execute_result",
          "data": {
            "application/vnd.google.colaboratory.intrinsic+json": {
              "type": "string"
            },
            "text/plain": [
              "'5cf58077b53e011a64671583'"
            ]
          },
          "metadata": {},
          "execution_count": 95
        }
      ]
    },
    {
      "cell_type": "code",
      "metadata": {
        "colab": {
          "base_uri": "https://localhost:8080/"
        },
        "id": "fwW50IRtCT4y",
        "outputId": "d0216c00-18a3-4478-af7f-732623200f07"
      },
      "source": [
        "bookChapterURL = \"https://the-one-api.dev/v2/book/\" + \"5cf58077b53e011a64671583\" + \"/chapter\"\n",
        "response = requests.get(bookChapterURL)\n",
        "response.json()"
      ],
      "execution_count": null,
      "outputs": [
        {
          "output_type": "execute_result",
          "data": {
            "text/plain": [
              "{'docs': [{'_id': '6091b6d6d58360f988133ba1',\n",
              "   'chapterName': 'The Departure of Boromir'},\n",
              "  {'_id': '6091b6d6d58360f988133ba2', 'chapterName': 'The Riders of Rohan'},\n",
              "  {'_id': '6091b6d6d58360f988133ba3', 'chapterName': 'The Uruk-Hai'},\n",
              "  {'_id': '6091b6d6d58360f988133ba4', 'chapterName': 'Treebeard'},\n",
              "  {'_id': '6091b6d6d58360f988133ba5', 'chapterName': 'The White Rider'},\n",
              "  {'_id': '6091b6d6d58360f988133ba6',\n",
              "   'chapterName': 'The King of the Golden Hall'},\n",
              "  {'_id': '6091b6d6d58360f988133ba7', 'chapterName': \"Helm's Deep\"},\n",
              "  {'_id': '6091b6d6d58360f988133ba8', 'chapterName': 'The Road to Isengard'},\n",
              "  {'_id': '6091b6d6d58360f988133ba9', 'chapterName': 'Flotsam and Jetsam'},\n",
              "  {'_id': '6091b6d6d58360f988133baa', 'chapterName': 'The Voice of Saruman'},\n",
              "  {'_id': '6091b6d6d58360f988133bab', 'chapterName': 'The Palantir'},\n",
              "  {'_id': '6091b6d6d58360f988133bac', 'chapterName': 'The Taming of Smeagol'},\n",
              "  {'_id': '6091b6d6d58360f988133bad',\n",
              "   'chapterName': 'The Passage of the Marshes'},\n",
              "  {'_id': '6091b6d6d58360f988133bae',\n",
              "   'chapterName': 'The Black Gate is Closed'},\n",
              "  {'_id': '6091b6d6d58360f988133baf',\n",
              "   'chapterName': 'Of Herbs and Stewed Rabbit'},\n",
              "  {'_id': '6091b6d6d58360f988133bb0', 'chapterName': 'The Window on the West'},\n",
              "  {'_id': '6091b6d6d58360f988133bb1', 'chapterName': 'The Forbidden Pool'},\n",
              "  {'_id': '6091b6d6d58360f988133bb2',\n",
              "   'chapterName': 'Journey to the Cross-roads'},\n",
              "  {'_id': '6091b6d6d58360f988133bb3',\n",
              "   'chapterName': 'The Stairs of Cirith Ungol'},\n",
              "  {'_id': '6091b6d6d58360f988133bb4', 'chapterName': \"Shelob's Lair\"},\n",
              "  {'_id': '6091b6d6d58360f988133bb5',\n",
              "   'chapterName': 'The Choices of Master Samwise'}],\n",
              " 'limit': 1000,\n",
              " 'offset': 0,\n",
              " 'page': 1,\n",
              " 'pages': 1,\n",
              " 'total': 21}"
            ]
          },
          "metadata": {},
          "execution_count": 96
        }
      ]
    },
    {
      "cell_type": "markdown",
      "metadata": {
        "id": "4EvVGWINBW6t"
      },
      "source": [
        "Let's write a function to call this api to get all of the book chapters for a specific book! "
      ]
    },
    {
      "cell_type": "code",
      "metadata": {
        "id": "_cqSp7PtBU8o"
      },
      "source": [
        "def getChapterForLotRBook(baseURL, bookName):\n",
        "  # call the API to get all of the books\n",
        "  allBooksResponse = requests.get(baseURL)\n",
        "  allBooksJson = allBooksResponse.json()\n",
        "  bookInformation = allBooksJson['docs']\n",
        "\n",
        "  for book in bookInformation: \n",
        "    if book['name'] == bookName: \n",
        "      bookChapterURL = \"https://the-one-api.dev/v2/book/\" + book[\"_id\"] + \"/chapter\"\n",
        "      chapterResponse = requests.get(bookChapterURL)\n",
        "      chapterJson = chapterResponse.json()\n",
        "      chapters = chapterJson['docs']\n",
        "\n",
        "      chapterNumber = 1\n",
        "      for chapter in chapters: \n",
        "        print(\"Chapter \", chapterNumber, ': ', chapter['chapterName'])\n",
        "        chapterNumber += 1"
      ],
      "execution_count": null,
      "outputs": []
    },
    {
      "cell_type": "code",
      "metadata": {
        "colab": {
          "base_uri": "https://localhost:8080/"
        },
        "id": "-LX0yBV5__9F",
        "outputId": "5a07253d-0f72-440a-a5cb-9b48342de76e"
      },
      "source": [
        "getChapterForLotRBook(lotrAPIURL, \"The Fellowship Of The Ring\")"
      ],
      "execution_count": null,
      "outputs": [
        {
          "output_type": "stream",
          "name": "stdout",
          "text": [
            "Chapter  1 :  A Long-expected Party\n",
            "Chapter  2 :  The Shadow of the Past\n",
            "Chapter  3 :  Three is Company\n",
            "Chapter  4 :  A Short Cut to Mushrooms\n",
            "Chapter  5 :  A Conspiracy Unmasked\n",
            "Chapter  6 :  The Old Forest\n",
            "Chapter  7 :  In the House of Tom Bombadil\n",
            "Chapter  8 :  Fog on the Barrow-Downs\n",
            "Chapter  9 :  At the Sign of The Prancing Pony\n",
            "Chapter  10 :  Strider\n",
            "Chapter  11 :  A Knife in the Dark\n",
            "Chapter  12 :  Flight to the Ford\n",
            "Chapter  13 :  Many Meetings\n",
            "Chapter  14 :  The Council of Elrond\n",
            "Chapter  15 :  The Ring Goes South\n",
            "Chapter  16 :  A Journey in the Dark\n",
            "Chapter  17 :  The Bridge of Khazad-dûm\n",
            "Chapter  18 :  Lothlórien\n",
            "Chapter  19 :  The Mirror of Galadriel\n",
            "Chapter  20 :  Farewell to Lórien\n",
            "Chapter  21 :  The Great River\n",
            "Chapter  22 :  The Breaking of the Fellowship\n"
          ]
        }
      ]
    },
    {
      "cell_type": "code",
      "metadata": {
        "id": "FRgW0TBzDRiq"
      },
      "source": [
        ""
      ],
      "execution_count": null,
      "outputs": []
    }
  ]
}